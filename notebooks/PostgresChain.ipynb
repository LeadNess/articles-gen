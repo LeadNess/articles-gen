{
 "cells": [
  {
   "cell_type": "code",
   "execution_count": 2,
   "metadata": {},
   "outputs": [],
   "source": [
    "from typing import Generator\n",
    "import psycopg2\n",
    "\n",
    "\n",
    "class PostgresStorage:\n",
    "\n",
    "    def __init__(self, conn):\n",
    "        self.conn = conn\n",
    "        self.cursor = conn.cursor()\n",
    "\n",
    "    @staticmethod\n",
    "    def connect(host, port=5432, user='postgres', password='password', dbname='habr'):\n",
    "        return PostgresStorage(conn=psycopg2.connect(\n",
    "            host=host, port=port, user=user, password=password, dbname=dbname)\n",
    "        )\n",
    "\n",
    "    def get_posts(self, habs_list: list = None, tags_list: list = None, count = 0, ordered = True) -> Generator:\n",
    "        if not habs_list and not tags_list:\n",
    "            sql = 'SELECT * FROM posts'\n",
    "            if ordered:\n",
    "                sql = sql + ' LIMIT %d' % count if count > 0 else sql\n",
    "            self.cursor.execute(sql)\n",
    "        elif habs_list:\n",
    "            self.__get_posts_by_habs(habs_list, count)\n",
    "        elif tags_list:\n",
    "            self.__get_posts_by_tags(tags_list, count)\n",
    "        posts_gen = (post for post in self.cursor.fetchall())\n",
    "        return posts_gen\n",
    "\n",
    "    def get_posts_texts(self, habs_list: list = None, tags_list: list = None, count=0) -> Generator:\n",
    "        posts_texts_gen = (post[2] for post in self.get_posts(habs_list, tags_list, count))\n",
    "        return posts_texts_gen\n",
    "\n",
    "    def __get_posts_by_habs(self, habs_list: list, count=0) -> None:\n",
    "        sql = '''SELECT P.* \n",
    "                   FROM posts P JOIN habs H ON P.post_id = H.post_id\n",
    "                  WHERE H.hab in (%s)''' % ''.join([\"'\" + str(hab) + \"', \" for hab in habs_list])[:-2]\n",
    "        sql = sql + \" LIMIT %d\" % count if count > 0 else sql\n",
    "        self.cursor.execute(sql)\n",
    "\n",
    "    def __get_posts_by_tags(self, tags_list: list, count=0) -> None:\n",
    "        sql = '''SELECT P.* \n",
    "                   FROM posts P JOIN tags T ON P.post_id = T.post_id\n",
    "                  WHERE T.tag in (%s)''' % ''.join([\"'\" + str(tag) + \"', \" for tag in tags_list])[:-2]\n",
    "        sql = sql + \" LIMIT %d\" % count if count > 0 else sql\n",
    "        self.cursor.execute(sql)\n"
   ]
  },
  {
   "cell_type": "code",
   "execution_count": 3,
   "metadata": {},
   "outputs": [],
   "source": [
    "pg_text_gen = PostgresStorage.connect('172.17.0.2')\n",
    "text_gen = pg_text_gen.get_posts_texts(count=20, habs_list=['Математика'])"
   ]
  },
  {
   "cell_type": "code",
   "execution_count": 5,
   "metadata": {
    "scrolled": false
   },
   "outputs": [],
   "source": [
    "text_corpus = list(text_gen)"
   ]
  },
  {
   "cell_type": "code",
   "execution_count": 6,
   "metadata": {},
   "outputs": [
    {
     "data": {
      "text/plain": [
       "20"
      ]
     },
     "execution_count": 6,
     "metadata": {},
     "output_type": "execute_result"
    }
   ],
   "source": [
    "len(text_corpus)"
   ]
  },
  {
   "cell_type": "code",
   "execution_count": 7,
   "metadata": {},
   "outputs": [],
   "source": [
    "conn = psycopg2.connect(host='172.17.0.3', port=5432, user='postgres', password='password', dbname='postgres')\n",
    "cur = conn.cursor()"
   ]
  },
  {
   "cell_type": "code",
   "execution_count": 8,
   "metadata": {},
   "outputs": [
    {
     "name": "stdout",
     "output_type": "stream",
     "text": [
      "CPU times: user 19 ms, sys: 555 µs, total: 19.6 ms\n",
      "Wall time: 1min 12s\n"
     ]
    }
   ],
   "source": [
    "%%time\n",
    "pg_proc = 'CALL train_chain(%s::text[],%s::integer)'\n",
    "state_size = 3\n",
    "cur.execute(pg_proc, [text_corpus, state_size])\n",
    "conn.commit()"
   ]
  },
  {
   "cell_type": "code",
   "execution_count": null,
   "metadata": {},
   "outputs": [],
   "source": [
    "query = 'SELECT '\n",
    "cur.execute(pg_proc, [text_corpus, state_size])"
   ]
  },
  {
   "cell_type": "code",
   "execution_count": null,
   "metadata": {},
   "outputs": [],
   "source": []
  }
 ],
 "metadata": {
  "kernelspec": {
   "display_name": "Python 3",
   "language": "python",
   "name": "python3"
  },
  "language_info": {
   "codemirror_mode": {
    "name": "ipython",
    "version": 3
   },
   "file_extension": ".py",
   "mimetype": "text/x-python",
   "name": "python",
   "nbconvert_exporter": "python",
   "pygments_lexer": "ipython3",
   "version": "3.7.7"
  }
 },
 "nbformat": 4,
 "nbformat_minor": 4
}
